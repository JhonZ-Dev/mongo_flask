{
  "cells": [
    {
      "cell_type": "markdown",
      "id": "da91feb3",
      "metadata": {
        "papermill": {
          "duration": 0.040171,
          "end_time": "2022-04-21T13:47:12.778133",
          "exception": false,
          "start_time": "2022-04-21T13:47:12.737962",
          "status": "completed"
        },
        "tags": [],
        "id": "da91feb3"
      },
      "source": [
        "#<b> Tema: Análisis Predictivo y Diagnóstico Temprano de la Diabetes Tipo 2 </b> </center>\n",
        " Integrantes G2:\n",
        "\n",
        "*   Olalla Luis\n",
        "*   Paute Kevin\n",
        "*   Perengueza Brandon\n",
        "*   Zambrano Jhon\n",
        "\n",
        "\n",
        "\n"
      ]
    },
    {
      "cell_type": "markdown",
      "id": "c724776a",
      "metadata": {
        "papermill": {
          "duration": 0.040936,
          "end_time": "2022-04-21T13:47:13.270834",
          "exception": false,
          "start_time": "2022-04-21T13:47:13.229898",
          "status": "completed"
        },
        "tags": [],
        "id": "c724776a"
      },
      "source": [
        "---"
      ]
    },
    {
      "cell_type": "markdown",
      "id": "13363f53",
      "metadata": {
        "papermill": {
          "duration": 0.040816,
          "end_time": "2022-04-21T13:47:13.553412",
          "exception": false,
          "start_time": "2022-04-21T13:47:13.512596",
          "status": "completed"
        },
        "tags": [],
        "id": "13363f53"
      },
      "source": [
        "#**1. Dataset**"
      ]
    },
    {
      "cell_type": "markdown",
      "id": "4e5ae921",
      "metadata": {
        "papermill": {
          "duration": 0.042532,
          "end_time": "2022-04-21T13:47:13.637341",
          "exception": false,
          "start_time": "2022-04-21T13:47:13.594809",
          "status": "completed"
        },
        "tags": [],
        "id": "4e5ae921"
      },
      "source": [
        "#Exploración de datos"
      ]
    },
    {
      "cell_type": "code",
      "execution_count": null,
      "id": "64c0702a",
      "metadata": {
        "execution": {
          "iopub.execute_input": "2022-04-21T13:47:13.729303Z",
          "iopub.status.busy": "2022-04-21T13:47:13.728648Z",
          "iopub.status.idle": "2022-04-21T13:47:15.390477Z",
          "shell.execute_reply": "2022-04-21T13:47:15.390989Z",
          "shell.execute_reply.started": "2022-04-21T13:46:03.377391Z"
        },
        "papermill": {
          "duration": 1.711965,
          "end_time": "2022-04-21T13:47:15.391377",
          "exception": false,
          "start_time": "2022-04-21T13:47:13.679412",
          "status": "completed"
        },
        "tags": [],
        "id": "64c0702a"
      },
      "outputs": [],
      "source": [
        "#Importing the basic librarires\n",
        "\n",
        "import os\n",
        "import math\n",
        "import numpy as np\n",
        "import pandas as pd\n",
        "import seaborn as sns\n",
        "import pandas as pd\n",
        "from sklearn.model_selection import train_test_split\n",
        "from sklearn.preprocessing import StandardScaler\n",
        "from sklearn.tree import DecisionTreeClassifier\n",
        "from sklearn.neighbors import KNeighborsClassifier\n",
        "from sklearn.linear_model import LogisticRegression\n",
        "from sklearn.ensemble import RandomForestClassifier\n",
        "from sklearn.naive_bayes import GaussianNB\n",
        "from sklearn.metrics import accuracy_score, precision_score, recall_score, f1_score\n",
        "\n",
        "from sklearn.decomposition import PCA\n",
        "from sklearn.metrics import confusion_matrix\n",
        "\n",
        "import matplotlib.pyplot as plt\n",
        "plt.rcParams['figure.figsize'] = [10,6]\n",
        "\n",
        "import warnings\n",
        "warnings.filterwarnings('ignore')"
      ]
    },
    {
      "cell_type": "code",
      "source": [
        "from google.colab import drive\n",
        "drive.mount('/content/drive')"
      ],
      "metadata": {
        "id": "_C94gclPqbQt"
      },
      "id": "_C94gclPqbQt",
      "execution_count": null,
      "outputs": []
    },
    {
      "cell_type": "code",
      "execution_count": null,
      "id": "a0f8ee8c",
      "metadata": {
        "execution": {
          "iopub.execute_input": "2022-04-21T13:47:15.481824Z",
          "iopub.status.busy": "2022-04-21T13:47:15.481150Z",
          "iopub.status.idle": "2022-04-21T13:47:15.523443Z",
          "shell.execute_reply": "2022-04-21T13:47:15.523868Z",
          "shell.execute_reply.started": "2022-04-21T13:46:45.107413Z"
        },
        "papermill": {
          "duration": 0.089463,
          "end_time": "2022-04-21T13:47:15.524033",
          "exception": false,
          "start_time": "2022-04-21T13:47:15.434570",
          "status": "completed"
        },
        "tags": [],
        "id": "a0f8ee8c",
        "outputId": "aa060c92-63ff-44ef-d79c-25095237ac17",
        "colab": {
          "base_uri": "https://localhost:8080/",
          "height": 313
        }
      },
      "outputs": [
        {
          "output_type": "execute_result",
          "data": {
            "text/plain": [
              "     Age Gender Family_Diabetes highBP      PhysicallyActive   BMI Smoking  \\\n",
              "0  50-59   Male              no    yes        one hr or more  39.0      no   \n",
              "1  50-59   Male              no    yes  less than half an hr  28.0      no   \n",
              "2  40-49   Male              no     no        one hr or more  24.0      no   \n",
              "3  50-59   Male              no     no        one hr or more  23.0      no   \n",
              "4  40-49   Male              no     no  less than half an hr  27.0      no   \n",
              "\n",
              "  Alcohol  Sleep  SoundSleep RegularMedicine      JunkFood     Stress BPLevel  \\\n",
              "0      no      8           6              no  occasionally  sometimes    high   \n",
              "1      no      8           6             yes    very often  sometimes  normal   \n",
              "2      no      6           6              no  occasionally  sometimes  normal   \n",
              "3      no      8           6              no  occasionally  sometimes  normal   \n",
              "4      no      8           8              no  occasionally  sometimes  normal   \n",
              "\n",
              "   Pregancies Pdiabetes UriationFreq Diabetic  \n",
              "0         0.0         0     not much       no  \n",
              "1         0.0         0     not much       no  \n",
              "2         0.0         0     not much       no  \n",
              "3         0.0         0     not much       no  \n",
              "4         0.0         0     not much       no  "
            ],
            "text/html": [
              "\n",
              "  <div id=\"df-4b65aa57-d96e-482a-90b9-9b8791e6b645\" class=\"colab-df-container\">\n",
              "    <div>\n",
              "<style scoped>\n",
              "    .dataframe tbody tr th:only-of-type {\n",
              "        vertical-align: middle;\n",
              "    }\n",
              "\n",
              "    .dataframe tbody tr th {\n",
              "        vertical-align: top;\n",
              "    }\n",
              "\n",
              "    .dataframe thead th {\n",
              "        text-align: right;\n",
              "    }\n",
              "</style>\n",
              "<table border=\"1\" class=\"dataframe\">\n",
              "  <thead>\n",
              "    <tr style=\"text-align: right;\">\n",
              "      <th></th>\n",
              "      <th>Age</th>\n",
              "      <th>Gender</th>\n",
              "      <th>Family_Diabetes</th>\n",
              "      <th>highBP</th>\n",
              "      <th>PhysicallyActive</th>\n",
              "      <th>BMI</th>\n",
              "      <th>Smoking</th>\n",
              "      <th>Alcohol</th>\n",
              "      <th>Sleep</th>\n",
              "      <th>SoundSleep</th>\n",
              "      <th>RegularMedicine</th>\n",
              "      <th>JunkFood</th>\n",
              "      <th>Stress</th>\n",
              "      <th>BPLevel</th>\n",
              "      <th>Pregancies</th>\n",
              "      <th>Pdiabetes</th>\n",
              "      <th>UriationFreq</th>\n",
              "      <th>Diabetic</th>\n",
              "    </tr>\n",
              "  </thead>\n",
              "  <tbody>\n",
              "    <tr>\n",
              "      <th>0</th>\n",
              "      <td>50-59</td>\n",
              "      <td>Male</td>\n",
              "      <td>no</td>\n",
              "      <td>yes</td>\n",
              "      <td>one hr or more</td>\n",
              "      <td>39.0</td>\n",
              "      <td>no</td>\n",
              "      <td>no</td>\n",
              "      <td>8</td>\n",
              "      <td>6</td>\n",
              "      <td>no</td>\n",
              "      <td>occasionally</td>\n",
              "      <td>sometimes</td>\n",
              "      <td>high</td>\n",
              "      <td>0.0</td>\n",
              "      <td>0</td>\n",
              "      <td>not much</td>\n",
              "      <td>no</td>\n",
              "    </tr>\n",
              "    <tr>\n",
              "      <th>1</th>\n",
              "      <td>50-59</td>\n",
              "      <td>Male</td>\n",
              "      <td>no</td>\n",
              "      <td>yes</td>\n",
              "      <td>less than half an hr</td>\n",
              "      <td>28.0</td>\n",
              "      <td>no</td>\n",
              "      <td>no</td>\n",
              "      <td>8</td>\n",
              "      <td>6</td>\n",
              "      <td>yes</td>\n",
              "      <td>very often</td>\n",
              "      <td>sometimes</td>\n",
              "      <td>normal</td>\n",
              "      <td>0.0</td>\n",
              "      <td>0</td>\n",
              "      <td>not much</td>\n",
              "      <td>no</td>\n",
              "    </tr>\n",
              "    <tr>\n",
              "      <th>2</th>\n",
              "      <td>40-49</td>\n",
              "      <td>Male</td>\n",
              "      <td>no</td>\n",
              "      <td>no</td>\n",
              "      <td>one hr or more</td>\n",
              "      <td>24.0</td>\n",
              "      <td>no</td>\n",
              "      <td>no</td>\n",
              "      <td>6</td>\n",
              "      <td>6</td>\n",
              "      <td>no</td>\n",
              "      <td>occasionally</td>\n",
              "      <td>sometimes</td>\n",
              "      <td>normal</td>\n",
              "      <td>0.0</td>\n",
              "      <td>0</td>\n",
              "      <td>not much</td>\n",
              "      <td>no</td>\n",
              "    </tr>\n",
              "    <tr>\n",
              "      <th>3</th>\n",
              "      <td>50-59</td>\n",
              "      <td>Male</td>\n",
              "      <td>no</td>\n",
              "      <td>no</td>\n",
              "      <td>one hr or more</td>\n",
              "      <td>23.0</td>\n",
              "      <td>no</td>\n",
              "      <td>no</td>\n",
              "      <td>8</td>\n",
              "      <td>6</td>\n",
              "      <td>no</td>\n",
              "      <td>occasionally</td>\n",
              "      <td>sometimes</td>\n",
              "      <td>normal</td>\n",
              "      <td>0.0</td>\n",
              "      <td>0</td>\n",
              "      <td>not much</td>\n",
              "      <td>no</td>\n",
              "    </tr>\n",
              "    <tr>\n",
              "      <th>4</th>\n",
              "      <td>40-49</td>\n",
              "      <td>Male</td>\n",
              "      <td>no</td>\n",
              "      <td>no</td>\n",
              "      <td>less than half an hr</td>\n",
              "      <td>27.0</td>\n",
              "      <td>no</td>\n",
              "      <td>no</td>\n",
              "      <td>8</td>\n",
              "      <td>8</td>\n",
              "      <td>no</td>\n",
              "      <td>occasionally</td>\n",
              "      <td>sometimes</td>\n",
              "      <td>normal</td>\n",
              "      <td>0.0</td>\n",
              "      <td>0</td>\n",
              "      <td>not much</td>\n",
              "      <td>no</td>\n",
              "    </tr>\n",
              "  </tbody>\n",
              "</table>\n",
              "</div>\n",
              "    <div class=\"colab-df-buttons\">\n",
              "\n",
              "  <div class=\"colab-df-container\">\n",
              "    <button class=\"colab-df-convert\" onclick=\"convertToInteractive('df-4b65aa57-d96e-482a-90b9-9b8791e6b645')\"\n",
              "            title=\"Convert this dataframe to an interactive table.\"\n",
              "            style=\"display:none;\">\n",
              "\n",
              "  <svg xmlns=\"http://www.w3.org/2000/svg\" height=\"24px\" viewBox=\"0 -960 960 960\">\n",
              "    <path d=\"M120-120v-720h720v720H120Zm60-500h600v-160H180v160Zm220 220h160v-160H400v160Zm0 220h160v-160H400v160ZM180-400h160v-160H180v160Zm440 0h160v-160H620v160ZM180-180h160v-160H180v160Zm440 0h160v-160H620v160Z\"/>\n",
              "  </svg>\n",
              "    </button>\n",
              "\n",
              "  <style>\n",
              "    .colab-df-container {\n",
              "      display:flex;\n",
              "      gap: 12px;\n",
              "    }\n",
              "\n",
              "    .colab-df-convert {\n",
              "      background-color: #E8F0FE;\n",
              "      border: none;\n",
              "      border-radius: 50%;\n",
              "      cursor: pointer;\n",
              "      display: none;\n",
              "      fill: #1967D2;\n",
              "      height: 32px;\n",
              "      padding: 0 0 0 0;\n",
              "      width: 32px;\n",
              "    }\n",
              "\n",
              "    .colab-df-convert:hover {\n",
              "      background-color: #E2EBFA;\n",
              "      box-shadow: 0px 1px 2px rgba(60, 64, 67, 0.3), 0px 1px 3px 1px rgba(60, 64, 67, 0.15);\n",
              "      fill: #174EA6;\n",
              "    }\n",
              "\n",
              "    .colab-df-buttons div {\n",
              "      margin-bottom: 4px;\n",
              "    }\n",
              "\n",
              "    [theme=dark] .colab-df-convert {\n",
              "      background-color: #3B4455;\n",
              "      fill: #D2E3FC;\n",
              "    }\n",
              "\n",
              "    [theme=dark] .colab-df-convert:hover {\n",
              "      background-color: #434B5C;\n",
              "      box-shadow: 0px 1px 3px 1px rgba(0, 0, 0, 0.15);\n",
              "      filter: drop-shadow(0px 1px 2px rgba(0, 0, 0, 0.3));\n",
              "      fill: #FFFFFF;\n",
              "    }\n",
              "  </style>\n",
              "\n",
              "    <script>\n",
              "      const buttonEl =\n",
              "        document.querySelector('#df-4b65aa57-d96e-482a-90b9-9b8791e6b645 button.colab-df-convert');\n",
              "      buttonEl.style.display =\n",
              "        google.colab.kernel.accessAllowed ? 'block' : 'none';\n",
              "\n",
              "      async function convertToInteractive(key) {\n",
              "        const element = document.querySelector('#df-4b65aa57-d96e-482a-90b9-9b8791e6b645');\n",
              "        const dataTable =\n",
              "          await google.colab.kernel.invokeFunction('convertToInteractive',\n",
              "                                                    [key], {});\n",
              "        if (!dataTable) return;\n",
              "\n",
              "        const docLinkHtml = 'Like what you see? Visit the ' +\n",
              "          '<a target=\"_blank\" href=https://colab.research.google.com/notebooks/data_table.ipynb>data table notebook</a>'\n",
              "          + ' to learn more about interactive tables.';\n",
              "        element.innerHTML = '';\n",
              "        dataTable['output_type'] = 'display_data';\n",
              "        await google.colab.output.renderOutput(dataTable, element);\n",
              "        const docLink = document.createElement('div');\n",
              "        docLink.innerHTML = docLinkHtml;\n",
              "        element.appendChild(docLink);\n",
              "      }\n",
              "    </script>\n",
              "  </div>\n",
              "\n",
              "\n",
              "<div id=\"df-c61a7d5d-effe-48cd-a4cb-c9cbe1f28211\">\n",
              "  <button class=\"colab-df-quickchart\" onclick=\"quickchart('df-c61a7d5d-effe-48cd-a4cb-c9cbe1f28211')\"\n",
              "            title=\"Suggest charts.\"\n",
              "            style=\"display:none;\">\n",
              "\n",
              "<svg xmlns=\"http://www.w3.org/2000/svg\" height=\"24px\"viewBox=\"0 0 24 24\"\n",
              "     width=\"24px\">\n",
              "    <g>\n",
              "        <path d=\"M19 3H5c-1.1 0-2 .9-2 2v14c0 1.1.9 2 2 2h14c1.1 0 2-.9 2-2V5c0-1.1-.9-2-2-2zM9 17H7v-7h2v7zm4 0h-2V7h2v10zm4 0h-2v-4h2v4z\"/>\n",
              "    </g>\n",
              "</svg>\n",
              "  </button>\n",
              "\n",
              "<style>\n",
              "  .colab-df-quickchart {\n",
              "    background-color: #E8F0FE;\n",
              "    border: none;\n",
              "    border-radius: 50%;\n",
              "    cursor: pointer;\n",
              "    display: none;\n",
              "    fill: #1967D2;\n",
              "    height: 32px;\n",
              "    padding: 0 0 0 0;\n",
              "    width: 32px;\n",
              "  }\n",
              "\n",
              "  .colab-df-quickchart:hover {\n",
              "    background-color: #E2EBFA;\n",
              "    box-shadow: 0px 1px 2px rgba(60, 64, 67, 0.3), 0px 1px 3px 1px rgba(60, 64, 67, 0.15);\n",
              "    fill: #174EA6;\n",
              "  }\n",
              "\n",
              "  [theme=dark] .colab-df-quickchart {\n",
              "    background-color: #3B4455;\n",
              "    fill: #D2E3FC;\n",
              "  }\n",
              "\n",
              "  [theme=dark] .colab-df-quickchart:hover {\n",
              "    background-color: #434B5C;\n",
              "    box-shadow: 0px 1px 3px 1px rgba(0, 0, 0, 0.15);\n",
              "    filter: drop-shadow(0px 1px 2px rgba(0, 0, 0, 0.3));\n",
              "    fill: #FFFFFF;\n",
              "  }\n",
              "</style>\n",
              "\n",
              "  <script>\n",
              "    async function quickchart(key) {\n",
              "      const charts = await google.colab.kernel.invokeFunction(\n",
              "          'suggestCharts', [key], {});\n",
              "    }\n",
              "    (() => {\n",
              "      let quickchartButtonEl =\n",
              "        document.querySelector('#df-c61a7d5d-effe-48cd-a4cb-c9cbe1f28211 button');\n",
              "      quickchartButtonEl.style.display =\n",
              "        google.colab.kernel.accessAllowed ? 'block' : 'none';\n",
              "    })();\n",
              "  </script>\n",
              "</div>\n",
              "    </div>\n",
              "  </div>\n"
            ]
          },
          "metadata": {},
          "execution_count": 4
        }
      ],
      "source": [
        "#Cargar dataset\n",
        "dataset = pd.read_csv('/content/sample_data/diabetes_2019.csv')\n",
        "dataset.head()"
      ]
    },
    {
      "cell_type": "code",
      "execution_count": null,
      "id": "a56dac97",
      "metadata": {
        "execution": {
          "iopub.execute_input": "2022-04-21T13:47:15.613727Z",
          "iopub.status.busy": "2022-04-21T13:47:15.613059Z",
          "iopub.status.idle": "2022-04-21T13:47:15.636675Z",
          "shell.execute_reply": "2022-04-21T13:47:15.637192Z",
          "shell.execute_reply.started": "2022-01-12T19:17:48.442989Z"
        },
        "papermill": {
          "duration": 0.070525,
          "end_time": "2022-04-21T13:47:15.637369",
          "exception": false,
          "start_time": "2022-04-21T13:47:15.566844",
          "status": "completed"
        },
        "tags": [],
        "id": "a56dac97",
        "outputId": "d158afa8-e5fd-4560-99b4-6f1a43ca9851",
        "colab": {
          "base_uri": "https://localhost:8080/"
        }
      },
      "outputs": [
        {
          "output_type": "stream",
          "name": "stdout",
          "text": [
            "<class 'pandas.core.frame.DataFrame'>\n",
            "RangeIndex: 952 entries, 0 to 951\n",
            "Data columns (total 18 columns):\n",
            " #   Column            Non-Null Count  Dtype  \n",
            "---  ------            --------------  -----  \n",
            " 0   Age               952 non-null    object \n",
            " 1   Gender            952 non-null    object \n",
            " 2   Family_Diabetes   952 non-null    object \n",
            " 3   highBP            952 non-null    object \n",
            " 4   PhysicallyActive  952 non-null    object \n",
            " 5   BMI               948 non-null    float64\n",
            " 6   Smoking           952 non-null    object \n",
            " 7   Alcohol           952 non-null    object \n",
            " 8   Sleep             952 non-null    int64  \n",
            " 9   SoundSleep        952 non-null    int64  \n",
            " 10  RegularMedicine   952 non-null    object \n",
            " 11  JunkFood          952 non-null    object \n",
            " 12  Stress            952 non-null    object \n",
            " 13  BPLevel           952 non-null    object \n",
            " 14  Pregancies        910 non-null    float64\n",
            " 15  Pdiabetes         951 non-null    object \n",
            " 16  UriationFreq      952 non-null    object \n",
            " 17  Diabetic          951 non-null    object \n",
            "dtypes: float64(2), int64(2), object(14)\n",
            "memory usage: 134.0+ KB\n"
          ]
        }
      ],
      "source": [
        "#Caracteristicas del dataset\n",
        "dataset.info()"
      ]
    },
    {
      "cell_type": "code",
      "execution_count": null,
      "id": "647bf68c",
      "metadata": {
        "execution": {
          "iopub.execute_input": "2022-04-21T13:47:15.725488Z",
          "iopub.status.busy": "2022-04-21T13:47:15.724820Z",
          "iopub.status.idle": "2022-04-21T13:47:15.733868Z",
          "shell.execute_reply": "2022-04-21T13:47:15.734335Z",
          "shell.execute_reply.started": "2022-01-12T19:17:48.469787Z"
        },
        "papermill": {
          "duration": 0.05497,
          "end_time": "2022-04-21T13:47:15.734521",
          "exception": false,
          "start_time": "2022-04-21T13:47:15.679551",
          "status": "completed"
        },
        "tags": [],
        "id": "647bf68c",
        "outputId": "2b7ff107-2f44-4b07-b39d-af53dae1633d",
        "colab": {
          "base_uri": "https://localhost:8080/"
        }
      },
      "outputs": [
        {
          "output_type": "execute_result",
          "data": {
            "text/plain": [
              "Gender               2\n",
              "Family_Diabetes      2\n",
              "highBP               2\n",
              "Smoking              2\n",
              "Alcohol              2\n",
              "UriationFreq         2\n",
              "Diabetic             3\n",
              "Pdiabetes            3\n",
              "RegularMedicine      3\n",
              "Stress               4\n",
              "JunkFood             4\n",
              "Age                  4\n",
              "PhysicallyActive     4\n",
              "Pregancies           5\n",
              "BPLevel              6\n",
              "Sleep                8\n",
              "SoundSleep          12\n",
              "BMI                 26\n",
              "dtype: int64"
            ]
          },
          "metadata": {},
          "execution_count": 6
        }
      ],
      "source": [
        "#Comprobación del número de filas únicas en cada característica\n",
        "dataset.nunique().sort_values()"
      ]
    },
    {
      "cell_type": "code",
      "execution_count": null,
      "id": "998c1eea",
      "metadata": {
        "execution": {
          "iopub.execute_input": "2022-04-21T13:47:15.933742Z",
          "iopub.status.busy": "2022-04-21T13:47:15.932975Z",
          "iopub.status.idle": "2022-04-21T13:47:15.956806Z",
          "shell.execute_reply": "2022-04-21T13:47:15.956205Z",
          "shell.execute_reply.started": "2022-01-12T19:17:48.502447Z"
        },
        "papermill": {
          "duration": 0.074195,
          "end_time": "2022-04-21T13:47:15.956940",
          "exception": false,
          "start_time": "2022-04-21T13:47:15.882745",
          "status": "completed"
        },
        "tags": [],
        "id": "998c1eea",
        "outputId": "ee193a2e-548a-485b-f5c9-5b8db0aeae3f",
        "colab": {
          "base_uri": "https://localhost:8080/",
          "height": 300
        }
      },
      "outputs": [
        {
          "output_type": "execute_result",
          "data": {
            "text/plain": [
              "              BMI       Sleep  SoundSleep  Pregancies\n",
              "count  948.000000  952.000000  952.000000  910.000000\n",
              "mean    25.763713    6.949580    5.495798    0.386813\n",
              "std      5.402595    1.273189    1.865618    0.909455\n",
              "min     15.000000    4.000000    0.000000    0.000000\n",
              "25%     22.000000    6.000000    4.000000    0.000000\n",
              "50%     25.000000    7.000000    6.000000    0.000000\n",
              "75%     29.000000    8.000000    7.000000    0.000000\n",
              "max     45.000000   11.000000   11.000000    4.000000"
            ],
            "text/html": [
              "\n",
              "  <div id=\"df-de189cd0-7fda-4175-835b-a993edd25b3c\" class=\"colab-df-container\">\n",
              "    <div>\n",
              "<style scoped>\n",
              "    .dataframe tbody tr th:only-of-type {\n",
              "        vertical-align: middle;\n",
              "    }\n",
              "\n",
              "    .dataframe tbody tr th {\n",
              "        vertical-align: top;\n",
              "    }\n",
              "\n",
              "    .dataframe thead th {\n",
              "        text-align: right;\n",
              "    }\n",
              "</style>\n",
              "<table border=\"1\" class=\"dataframe\">\n",
              "  <thead>\n",
              "    <tr style=\"text-align: right;\">\n",
              "      <th></th>\n",
              "      <th>BMI</th>\n",
              "      <th>Sleep</th>\n",
              "      <th>SoundSleep</th>\n",
              "      <th>Pregancies</th>\n",
              "    </tr>\n",
              "  </thead>\n",
              "  <tbody>\n",
              "    <tr>\n",
              "      <th>count</th>\n",
              "      <td>948.000000</td>\n",
              "      <td>952.000000</td>\n",
              "      <td>952.000000</td>\n",
              "      <td>910.000000</td>\n",
              "    </tr>\n",
              "    <tr>\n",
              "      <th>mean</th>\n",
              "      <td>25.763713</td>\n",
              "      <td>6.949580</td>\n",
              "      <td>5.495798</td>\n",
              "      <td>0.386813</td>\n",
              "    </tr>\n",
              "    <tr>\n",
              "      <th>std</th>\n",
              "      <td>5.402595</td>\n",
              "      <td>1.273189</td>\n",
              "      <td>1.865618</td>\n",
              "      <td>0.909455</td>\n",
              "    </tr>\n",
              "    <tr>\n",
              "      <th>min</th>\n",
              "      <td>15.000000</td>\n",
              "      <td>4.000000</td>\n",
              "      <td>0.000000</td>\n",
              "      <td>0.000000</td>\n",
              "    </tr>\n",
              "    <tr>\n",
              "      <th>25%</th>\n",
              "      <td>22.000000</td>\n",
              "      <td>6.000000</td>\n",
              "      <td>4.000000</td>\n",
              "      <td>0.000000</td>\n",
              "    </tr>\n",
              "    <tr>\n",
              "      <th>50%</th>\n",
              "      <td>25.000000</td>\n",
              "      <td>7.000000</td>\n",
              "      <td>6.000000</td>\n",
              "      <td>0.000000</td>\n",
              "    </tr>\n",
              "    <tr>\n",
              "      <th>75%</th>\n",
              "      <td>29.000000</td>\n",
              "      <td>8.000000</td>\n",
              "      <td>7.000000</td>\n",
              "      <td>0.000000</td>\n",
              "    </tr>\n",
              "    <tr>\n",
              "      <th>max</th>\n",
              "      <td>45.000000</td>\n",
              "      <td>11.000000</td>\n",
              "      <td>11.000000</td>\n",
              "      <td>4.000000</td>\n",
              "    </tr>\n",
              "  </tbody>\n",
              "</table>\n",
              "</div>\n",
              "    <div class=\"colab-df-buttons\">\n",
              "\n",
              "  <div class=\"colab-df-container\">\n",
              "    <button class=\"colab-df-convert\" onclick=\"convertToInteractive('df-de189cd0-7fda-4175-835b-a993edd25b3c')\"\n",
              "            title=\"Convert this dataframe to an interactive table.\"\n",
              "            style=\"display:none;\">\n",
              "\n",
              "  <svg xmlns=\"http://www.w3.org/2000/svg\" height=\"24px\" viewBox=\"0 -960 960 960\">\n",
              "    <path d=\"M120-120v-720h720v720H120Zm60-500h600v-160H180v160Zm220 220h160v-160H400v160Zm0 220h160v-160H400v160ZM180-400h160v-160H180v160Zm440 0h160v-160H620v160ZM180-180h160v-160H180v160Zm440 0h160v-160H620v160Z\"/>\n",
              "  </svg>\n",
              "    </button>\n",
              "\n",
              "  <style>\n",
              "    .colab-df-container {\n",
              "      display:flex;\n",
              "      gap: 12px;\n",
              "    }\n",
              "\n",
              "    .colab-df-convert {\n",
              "      background-color: #E8F0FE;\n",
              "      border: none;\n",
              "      border-radius: 50%;\n",
              "      cursor: pointer;\n",
              "      display: none;\n",
              "      fill: #1967D2;\n",
              "      height: 32px;\n",
              "      padding: 0 0 0 0;\n",
              "      width: 32px;\n",
              "    }\n",
              "\n",
              "    .colab-df-convert:hover {\n",
              "      background-color: #E2EBFA;\n",
              "      box-shadow: 0px 1px 2px rgba(60, 64, 67, 0.3), 0px 1px 3px 1px rgba(60, 64, 67, 0.15);\n",
              "      fill: #174EA6;\n",
              "    }\n",
              "\n",
              "    .colab-df-buttons div {\n",
              "      margin-bottom: 4px;\n",
              "    }\n",
              "\n",
              "    [theme=dark] .colab-df-convert {\n",
              "      background-color: #3B4455;\n",
              "      fill: #D2E3FC;\n",
              "    }\n",
              "\n",
              "    [theme=dark] .colab-df-convert:hover {\n",
              "      background-color: #434B5C;\n",
              "      box-shadow: 0px 1px 3px 1px rgba(0, 0, 0, 0.15);\n",
              "      filter: drop-shadow(0px 1px 2px rgba(0, 0, 0, 0.3));\n",
              "      fill: #FFFFFF;\n",
              "    }\n",
              "  </style>\n",
              "\n",
              "    <script>\n",
              "      const buttonEl =\n",
              "        document.querySelector('#df-de189cd0-7fda-4175-835b-a993edd25b3c button.colab-df-convert');\n",
              "      buttonEl.style.display =\n",
              "        google.colab.kernel.accessAllowed ? 'block' : 'none';\n",
              "\n",
              "      async function convertToInteractive(key) {\n",
              "        const element = document.querySelector('#df-de189cd0-7fda-4175-835b-a993edd25b3c');\n",
              "        const dataTable =\n",
              "          await google.colab.kernel.invokeFunction('convertToInteractive',\n",
              "                                                    [key], {});\n",
              "        if (!dataTable) return;\n",
              "\n",
              "        const docLinkHtml = 'Like what you see? Visit the ' +\n",
              "          '<a target=\"_blank\" href=https://colab.research.google.com/notebooks/data_table.ipynb>data table notebook</a>'\n",
              "          + ' to learn more about interactive tables.';\n",
              "        element.innerHTML = '';\n",
              "        dataTable['output_type'] = 'display_data';\n",
              "        await google.colab.output.renderOutput(dataTable, element);\n",
              "        const docLink = document.createElement('div');\n",
              "        docLink.innerHTML = docLinkHtml;\n",
              "        element.appendChild(docLink);\n",
              "      }\n",
              "    </script>\n",
              "  </div>\n",
              "\n",
              "\n",
              "<div id=\"df-5320ff75-3c91-4782-8bd5-2e5e337a002b\">\n",
              "  <button class=\"colab-df-quickchart\" onclick=\"quickchart('df-5320ff75-3c91-4782-8bd5-2e5e337a002b')\"\n",
              "            title=\"Suggest charts.\"\n",
              "            style=\"display:none;\">\n",
              "\n",
              "<svg xmlns=\"http://www.w3.org/2000/svg\" height=\"24px\"viewBox=\"0 0 24 24\"\n",
              "     width=\"24px\">\n",
              "    <g>\n",
              "        <path d=\"M19 3H5c-1.1 0-2 .9-2 2v14c0 1.1.9 2 2 2h14c1.1 0 2-.9 2-2V5c0-1.1-.9-2-2-2zM9 17H7v-7h2v7zm4 0h-2V7h2v10zm4 0h-2v-4h2v4z\"/>\n",
              "    </g>\n",
              "</svg>\n",
              "  </button>\n",
              "\n",
              "<style>\n",
              "  .colab-df-quickchart {\n",
              "    background-color: #E8F0FE;\n",
              "    border: none;\n",
              "    border-radius: 50%;\n",
              "    cursor: pointer;\n",
              "    display: none;\n",
              "    fill: #1967D2;\n",
              "    height: 32px;\n",
              "    padding: 0 0 0 0;\n",
              "    width: 32px;\n",
              "  }\n",
              "\n",
              "  .colab-df-quickchart:hover {\n",
              "    background-color: #E2EBFA;\n",
              "    box-shadow: 0px 1px 2px rgba(60, 64, 67, 0.3), 0px 1px 3px 1px rgba(60, 64, 67, 0.15);\n",
              "    fill: #174EA6;\n",
              "  }\n",
              "\n",
              "  [theme=dark] .colab-df-quickchart {\n",
              "    background-color: #3B4455;\n",
              "    fill: #D2E3FC;\n",
              "  }\n",
              "\n",
              "  [theme=dark] .colab-df-quickchart:hover {\n",
              "    background-color: #434B5C;\n",
              "    box-shadow: 0px 1px 3px 1px rgba(0, 0, 0, 0.15);\n",
              "    filter: drop-shadow(0px 1px 2px rgba(0, 0, 0, 0.3));\n",
              "    fill: #FFFFFF;\n",
              "  }\n",
              "</style>\n",
              "\n",
              "  <script>\n",
              "    async function quickchart(key) {\n",
              "      const charts = await google.colab.kernel.invokeFunction(\n",
              "          'suggestCharts', [key], {});\n",
              "    }\n",
              "    (() => {\n",
              "      let quickchartButtonEl =\n",
              "        document.querySelector('#df-5320ff75-3c91-4782-8bd5-2e5e337a002b button');\n",
              "      quickchartButtonEl.style.display =\n",
              "        google.colab.kernel.accessAllowed ? 'block' : 'none';\n",
              "    })();\n",
              "  </script>\n",
              "</div>\n",
              "    </div>\n",
              "  </div>\n"
            ]
          },
          "metadata": {},
          "execution_count": 7
        }
      ],
      "source": [
        "#Estadisticas\n",
        "dataset.describe()"
      ]
    },
    {
      "cell_type": "code",
      "source": [
        "dataset.isna().sum()"
      ],
      "metadata": {
        "colab": {
          "base_uri": "https://localhost:8080/"
        },
        "id": "pCQb2sebxHgq",
        "outputId": "bb9f54df-32e0-47fe-f8c3-637c923ad972"
      },
      "id": "pCQb2sebxHgq",
      "execution_count": null,
      "outputs": [
        {
          "output_type": "execute_result",
          "data": {
            "text/plain": [
              "Age                  0\n",
              "Gender               0\n",
              "Family_Diabetes      0\n",
              "highBP               0\n",
              "PhysicallyActive     0\n",
              "BMI                  4\n",
              "Smoking              0\n",
              "Alcohol              0\n",
              "Sleep                0\n",
              "SoundSleep           0\n",
              "RegularMedicine      0\n",
              "JunkFood             0\n",
              "Stress               0\n",
              "BPLevel              0\n",
              "Pregancies          42\n",
              "Pdiabetes            1\n",
              "UriationFreq         0\n",
              "Diabetic             1\n",
              "dtype: int64"
            ]
          },
          "metadata": {},
          "execution_count": 9
        }
      ]
    },
    {
      "cell_type": "markdown",
      "id": "c748178a",
      "metadata": {
        "papermill": {
          "duration": 0.04273,
          "end_time": "2022-04-21T13:47:16.129981",
          "exception": false,
          "start_time": "2022-04-21T13:47:16.087251",
          "status": "completed"
        },
        "tags": [],
        "id": "c748178a"
      },
      "source": [
        "---"
      ]
    },
    {
      "cell_type": "code",
      "execution_count": null,
      "id": "72fc4e46",
      "metadata": {
        "execution": {
          "iopub.execute_input": "2022-04-21T13:47:18.864462Z",
          "iopub.status.busy": "2022-04-21T13:47:18.860822Z",
          "iopub.status.idle": "2022-04-21T13:47:30.063668Z",
          "shell.execute_reply": "2022-04-21T13:47:30.064167Z",
          "shell.execute_reply.started": "2022-01-12T19:17:50.743037Z"
        },
        "papermill": {
          "duration": 11.255093,
          "end_time": "2022-04-21T13:47:30.064362",
          "exception": false,
          "start_time": "2022-04-21T13:47:18.809269",
          "status": "completed"
        },
        "tags": [],
        "id": "72fc4e46"
      },
      "outputs": [],
      "source": [
        "#Entender la relación entre todas las características.\n",
        "g = sns.pairplot(dataset)\n",
        "plt.title('Pairplots para todas las características')\n",
        "g.map_upper(sns.kdeplot, levels=4, color=\".2\")\n",
        "plt.show()"
      ]
    },
    {
      "cell_type": "markdown",
      "id": "7b3884a8",
      "metadata": {
        "papermill": {
          "duration": 0.043872,
          "end_time": "2022-04-21T13:47:16.216976",
          "exception": false,
          "start_time": "2022-04-21T13:47:16.173104",
          "status": "completed"
        },
        "tags": [],
        "id": "7b3884a8"
      },
      "source": [
        "#Preprocesamiento y manipulacion de datos"
      ]
    },
    {
      "cell_type": "code",
      "source": [
        "df = dataset.copy()"
      ],
      "metadata": {
        "id": "304bVxJExYn-"
      },
      "id": "304bVxJExYn-",
      "execution_count": null,
      "outputs": []
    },
    {
      "cell_type": "code",
      "source": [
        "# Remover filas\n",
        "indexes = df[df['Diabetic'].isna() | df['Pdiabetes'].isna() | df['BMI'].isna()].index.to_list()\n",
        "\n",
        "print(indexes)\n",
        "df.drop(index= indexes,inplace = True)"
      ],
      "metadata": {
        "colab": {
          "base_uri": "https://localhost:8080/"
        },
        "id": "THijsNwTxTRB",
        "outputId": "fc5319e1-4a0d-433f-ea3e-7a16d2f7df5b"
      },
      "id": "THijsNwTxTRB",
      "execution_count": null,
      "outputs": [
        {
          "output_type": "stream",
          "name": "stdout",
          "text": [
            "[113, 116, 121, 122, 134]\n"
          ]
        }
      ]
    },
    {
      "cell_type": "code",
      "source": [
        "#imputing pregnancies\n",
        "print(df['Pregancies'].value_counts())\n",
        "df['Pregancies'].fillna(value = 0.0, inplace= True)\n",
        "print(df['Pregancies'].value_counts())\n",
        "df['Pregancies'] = df['Pregancies'].astype(int)\n",
        "df['Pregancies']"
      ],
      "metadata": {
        "colab": {
          "base_uri": "https://localhost:8080/"
        },
        "id": "XC4aPshDx9r4",
        "outputId": "3bf78ce0-d5ea-4388-9e59-3d846b7ef6e1"
      },
      "id": "XC4aPshDx9r4",
      "execution_count": null,
      "outputs": [
        {
          "output_type": "stream",
          "name": "stdout",
          "text": [
            "0.0    750\n",
            "2.0     63\n",
            "3.0     60\n",
            "1.0     28\n",
            "4.0      4\n",
            "Name: Pregancies, dtype: int64\n",
            "0.0    792\n",
            "2.0     63\n",
            "3.0     60\n",
            "1.0     28\n",
            "4.0      4\n",
            "Name: Pregancies, dtype: int64\n"
          ]
        },
        {
          "output_type": "execute_result",
          "data": {
            "text/plain": [
              "0      0\n",
              "1      0\n",
              "2      0\n",
              "3      0\n",
              "4      0\n",
              "      ..\n",
              "947    0\n",
              "948    0\n",
              "949    0\n",
              "950    0\n",
              "951    2\n",
              "Name: Pregancies, Length: 947, dtype: int64"
            ]
          },
          "metadata": {},
          "execution_count": 13
        }
      ]
    },
    {
      "cell_type": "code",
      "source": [
        "print(df['Diabetic'].value_counts())\n",
        "df['Diabetic'].replace(' no', 'no', inplace=True)\n",
        "print(df['Diabetic'].value_counts())\n",
        "sns.countplot(x = 'Diabetic',data = df)"
      ],
      "metadata": {
        "colab": {
          "base_uri": "https://localhost:8080/",
          "height": 681
        },
        "id": "j9bz9GZ5yB5_",
        "outputId": "1a1832a0-7e8f-49f8-985b-f5c9c7cec361"
      },
      "id": "j9bz9GZ5yB5_",
      "execution_count": null,
      "outputs": [
        {
          "output_type": "stream",
          "name": "stdout",
          "text": [
            "no     681\n",
            "yes    265\n",
            " no      1\n",
            "Name: Diabetic, dtype: int64\n",
            "no     682\n",
            "yes    265\n",
            "Name: Diabetic, dtype: int64\n"
          ]
        },
        {
          "output_type": "execute_result",
          "data": {
            "text/plain": [
              "<Axes: xlabel='Diabetic', ylabel='count'>"
            ]
          },
          "metadata": {},
          "execution_count": 14
        },
        {
          "output_type": "display_data",
          "data": {
            "text/plain": [
              "<Figure size 1000x600 with 1 Axes>"
            ],
            "image/png": "[encoded data removed]"
          },
          "metadata": {}
        }
      ]
    },
    {
      "cell_type": "code",
      "source": [
        "print(df['RegularMedicine'].value_counts())\n",
        "df['RegularMedicine'].replace('o', 'no', inplace =True)\n",
        "print(df['RegularMedicine'].value_counts())"
      ],
      "metadata": {
        "colab": {
          "base_uri": "https://localhost:8080/"
        },
        "id": "Kx1QALZfySD8",
        "outputId": "43e52f02-76a4-4a86-e6f9-3bfff633cc2b"
      },
      "id": "Kx1QALZfySD8",
      "execution_count": null,
      "outputs": [
        {
          "output_type": "stream",
          "name": "stdout",
          "text": [
            "no     611\n",
            "yes    335\n",
            "o        1\n",
            "Name: RegularMedicine, dtype: int64\n",
            "no     612\n",
            "yes    335\n",
            "Name: RegularMedicine, dtype: int64\n"
          ]
        }
      ]
    },
    {
      "cell_type": "code",
      "source": [
        "print(df['Pdiabetes'].value_counts())\n",
        "df['Pdiabetes'].replace('0', 'no', inplace = True)\n",
        "print(df['Pdiabetes'].value_counts())"
      ],
      "metadata": {
        "colab": {
          "base_uri": "https://localhost:8080/"
        },
        "id": "ptE5_k_6yULS",
        "outputId": "f8e71a53-d1ff-435b-ea4e-289229ce30e1"
      },
      "id": "ptE5_k_6yULS",
      "execution_count": null,
      "outputs": [
        {
          "output_type": "stream",
          "name": "stdout",
          "text": [
            "0      932\n",
            "yes     14\n",
            "no       1\n",
            "Name: Pdiabetes, dtype: int64\n",
            "no     933\n",
            "yes     14\n",
            "Name: Pdiabetes, dtype: int64\n"
          ]
        }
      ]
    },
    {
      "cell_type": "code",
      "source": [
        "cols = ['Age', 'Gender', 'Family_Diabetes', 'highBP', 'PhysicallyActive',\n",
        "       'Smoking', 'Alcohol', 'RegularMedicine',\n",
        "       'JunkFood', 'Stress', 'BPLevel', 'Pregancies', 'Pdiabetes',\n",
        "       'UriationFreq']\n",
        "\n",
        "plt.figure(figsize = (15,25))\n",
        "\n",
        "i  = 0\n",
        "for j in range(9):\n",
        "    plt.xticks(rotation=75)\n",
        "    plt.subplot(int(str(3)+str(3)+str(j+1)))\n",
        "    sns.countplot(x = cols[i], hue='Diabetic',data = df)\n",
        "    i += 1\n",
        "plt.show()\n",
        "\n",
        "plt.figure(figsize = (15,25))\n",
        "for j in range(5):\n",
        "    plt.xticks(rotation=75)\n",
        "    plt.subplot(int(str(3)+str(3)+str(j+1)))\n",
        "    sns.countplot(x = cols[i], hue='Diabetic',data = df)\n",
        "    i += 1"
      ],
      "metadata": {
        "colab": {
          "base_uri": "https://localhost:8080/",
          "height": 1000
        },
        "id": "Ss7KwUC0yfuB",
        "outputId": "10aa933a-eca9-4cc7-8362-d91f5c184274"
      },
      "id": "Ss7KwUC0yfuB",
      "execution_count": null,
      "outputs": [
        {
          "output_type": "display_data",
          "data": {
            "text/plain": [
              "<Figure size 1500x2500 with 9 Axes>"
            ],
            "image/png": "[encoded data removed]"
          },
          "metadata": {}
        },
        {
          "output_type": "display_data",
          "data": {
            "text/plain": [
              "<Figure size 1500x2500 with 5 Axes>"
            ],
            "image/png": "[encoded data removed]"
          },
          "metadata": {}
        }
      ]
    },
    {
      "cell_type": "code",
      "source": [
        "#encodig\n",
        "df = pd.get_dummies(df, drop_first= True)\n",
        "\n",
        "preg = pd.get_dummies(df['Pregancies'],prefix='Pregnancies',drop_first= True)\n",
        "\n",
        "print(preg.head())\n",
        "\n",
        "df = pd.concat([preg,df], axis = 1)\n",
        "df.drop(columns=['Pregancies'],inplace=True)"
      ],
      "metadata": {
        "colab": {
          "base_uri": "https://localhost:8080/"
        },
        "id": "K3c0E9Jnyvg_",
        "outputId": "948d514d-b327-4221-88fe-a6468a307b24"
      },
      "id": "K3c0E9Jnyvg_",
      "execution_count": null,
      "outputs": [
        {
          "output_type": "stream",
          "name": "stdout",
          "text": [
            "   Pregnancies_1  Pregnancies_2  Pregnancies_3  Pregnancies_4\n",
            "0              0              0              0              0\n",
            "1              0              0              0              0\n",
            "2              0              0              0              0\n",
            "3              0              0              0              0\n",
            "4              0              0              0              0\n"
          ]
        }
      ]
    },
    {
      "cell_type": "code",
      "source": [
        "df.columns"
      ],
      "metadata": {
        "colab": {
          "base_uri": "https://localhost:8080/"
        },
        "id": "SBIFtGUbzC-V",
        "outputId": "8659907a-5891-4c25-b975-4528e536c636"
      },
      "id": "SBIFtGUbzC-V",
      "execution_count": null,
      "outputs": [
        {
          "output_type": "execute_result",
          "data": {
            "text/plain": [
              "Index(['Pregnancies_1', 'Pregnancies_2', 'Pregnancies_3', 'Pregnancies_4',\n",
              "       'BMI', 'Sleep', 'SoundSleep', 'Age_50-59', 'Age_60 or older',\n",
              "       'Age_less than 40', 'Gender_Male', 'Family_Diabetes_yes', 'highBP_yes',\n",
              "       'PhysicallyActive_more than half an hr', 'PhysicallyActive_none',\n",
              "       'PhysicallyActive_one hr or more', 'Smoking_yes', 'Alcohol_yes',\n",
              "       'RegularMedicine_yes', 'JunkFood_occasionally', 'JunkFood_often',\n",
              "       'JunkFood_very often', 'Stress_not at all', 'Stress_sometimes',\n",
              "       'Stress_very often', 'BPLevel_Low', 'BPLevel_high', 'BPLevel_low',\n",
              "       'BPLevel_normal', 'BPLevel_normal ', 'Pdiabetes_yes',\n",
              "       'UriationFreq_quite often', 'Diabetic_yes'],\n",
              "      dtype='object')"
            ]
          },
          "metadata": {},
          "execution_count": 21
        }
      ]
    },
    {
      "cell_type": "code",
      "source": [
        "#Scaling\n",
        "df[['BMI', 'Sleep','SoundSleep']].hist(figsize=(20,10))\n",
        "plt.show()"
      ],
      "metadata": {
        "colab": {
          "base_uri": "https://localhost:8080/",
          "height": 597
        },
        "id": "kc8xEvn_zFYB",
        "outputId": "a23f086c-518b-4992-839e-3487d895fe28"
      },
      "id": "kc8xEvn_zFYB",
      "execution_count": null,
      "outputs": [
        {
          "output_type": "display_data",
          "data": {
            "text/plain": [
              "<Figure size 2000x1000 with 4 Axes>"
            ],
            "image/png": "[encoded data removed]"
          },
          "metadata": {}
        }
      ]
    },
    {
      "cell_type": "code",
      "source": [
        "standard_df = df.copy()\n",
        "\n",
        "cols = ['BMI','Sleep','SoundSleep']\n",
        "standard_df[cols] = StandardScaler().fit_transform(standard_df[cols].values)\n",
        "standard_df"
      ],
      "metadata": {
        "colab": {
          "base_uri": "https://localhost:8080/",
          "height": 478
        },
        "id": "wNTJG4-_zL_m",
        "outputId": "40f8d9e5-83ad-4e82-b3d2-a1365949ea87"
      },
      "id": "wNTJG4-_zL_m",
      "execution_count": null,
      "outputs": [
        {
          "output_type": "execute_result",
          "data": {
            "text/plain": [
              "     Pregnancies_1  Pregnancies_2  Pregnancies_3  Pregnancies_4       BMI  \\\n",
              "0                0              0              0              0  2.450335   \n",
              "1                0              0              0              0  0.413050   \n",
              "2                0              0              0              0 -0.327780   \n",
              "3                0              0              0              0 -0.512988   \n",
              "4                0              0              0              0  0.227843   \n",
              "..             ...            ...            ...            ...       ...   \n",
              "947              0              0              0              0 -0.142573   \n",
              "948              0              0              0              0  0.227843   \n",
              "949              0              0              0              0 -0.512988   \n",
              "950              0              0              0              0  0.227843   \n",
              "951              0              1              0              0  0.783466   \n",
              "\n",
              "        Sleep  SoundSleep  Age_50-59  Age_60 or older  Age_less than 40  ...  \\\n",
              "0    0.821693    0.268666          1                0                 0  ...   \n",
              "1    0.821693    0.268666          1                0                 0  ...   \n",
              "2   -0.748727    0.268666          0                0                 0  ...   \n",
              "3    0.821693    0.268666          1                0                 0  ...   \n",
              "4    0.821693    1.339936          0                0                 0  ...   \n",
              "..        ...         ...        ...              ...               ...  ...   \n",
              "947  0.821693    0.268666          0                0                 1  ...   \n",
              "948 -0.748727   -0.266969          0                1                 0  ...   \n",
              "949 -0.748727   -0.266969          0                1                 0  ...   \n",
              "950 -0.748727   -0.266969          0                1                 0  ...   \n",
              "951  0.036483   -0.802604          0                1                 0  ...   \n",
              "\n",
              "     Stress_sometimes  Stress_very often  BPLevel_Low  BPLevel_high  \\\n",
              "0                   1                  0            0             1   \n",
              "1                   1                  0            0             0   \n",
              "2                   1                  0            0             0   \n",
              "3                   1                  0            0             0   \n",
              "4                   1                  0            0             0   \n",
              "..                ...                ...          ...           ...   \n",
              "947                 1                  0            0             0   \n",
              "948                 1                  0            0             1   \n",
              "949                 1                  0            0             1   \n",
              "950                 0                  1            0             1   \n",
              "951                 1                  0            0             1   \n",
              "\n",
              "     BPLevel_low  BPLevel_normal  BPLevel_normal   Pdiabetes_yes  \\\n",
              "0              0               0                0              0   \n",
              "1              0               1                0              0   \n",
              "2              0               1                0              0   \n",
              "3              0               1                0              0   \n",
              "4              0               1                0              0   \n",
              "..           ...             ...              ...            ...   \n",
              "947            0               1                0              0   \n",
              "948            0               0                0              0   \n",
              "949            0               0                0              0   \n",
              "950            0               0                0              0   \n",
              "951            0               0                0              0   \n",
              "\n",
              "     UriationFreq_quite often  Diabetic_yes  \n",
              "0                           0             0  \n",
              "1                           0             0  \n",
              "2                           0             0  \n",
              "3                           0             0  \n",
              "4                           0             0  \n",
              "..                        ...           ...  \n",
              "947                         0             1  \n",
              "948                         1             1  \n",
              "949                         0             0  \n",
              "950                         0             0  \n",
              "951                         1             1  \n",
              "\n",
              "[947 rows x 33 columns]"
            ],
            "text/html": [
              "\n",
              "  <div id=\"df-2a197c91-0aee-4523-bf95-08f7e7d0cc47\" class=\"colab-df-container\">\n",
              "    <div>\n",
              "<style scoped>\n",
              "    .dataframe tbody tr th:only-of-type {\n",
              "        vertical-align: middle;\n",
              "    }\n",
              "\n",
              "    .dataframe tbody tr th {\n",
              "        vertical-align: top;\n",
              "    }\n",
              "\n",
              "    .dataframe thead th {\n",
              "        text-align: right;\n",
              "    }\n",
              "</style>\n",
              "<table border=\"1\" class=\"dataframe\">\n",
              "  <thead>\n",
              "    <tr style=\"text-align: right;\">\n",
              "      <th></th>\n",
              "      <th>Pregnancies_1</th>\n",
              "      <th>Pregnancies_2</th>\n",
              "      <th>Pregnancies_3</th>\n",
              "      <th>Pregnancies_4</th>\n",
              "      <th>BMI</th>\n",
              "      <th>Sleep</th>\n",
              "      <th>SoundSleep</th>\n",
              "      <th>Age_50-59</th>\n",
              "      <th>Age_60 or older</th>\n",
              "      <th>Age_less than 40</th>\n",
              "      <th>...</th>\n",
              "      <th>Stress_sometimes</th>\n",
              "      <th>Stress_very often</th>\n",
              "      <th>BPLevel_Low</th>\n",
              "      <th>BPLevel_high</th>\n",
              "      <th>BPLevel_low</th>\n",
              "      <th>BPLevel_normal</th>\n",
              "      <th>BPLevel_normal</th>\n",
              "      <th>Pdiabetes_yes</th>\n",
              "      <th>UriationFreq_quite often</th>\n",
              "      <th>Diabetic_yes</th>\n",
              "    </tr>\n",
              "  </thead>\n",
              "  <tbody>\n",
              "    <tr>\n",
              "      <th>0</th>\n",
              "      <td>0</td>\n",
              "      <td>0</td>\n",
              "      <td>0</td>\n",
              "      <td>0</td>\n",
              "      <td>2.450335</td>\n",
              "      <td>0.821693</td>\n",
              "      <td>0.268666</td>\n",
              "      <td>1</td>\n",
              "      <td>0</td>\n",
              "      <td>0</td>\n",
              "      <td>...</td>\n",
              "      <td>1</td>\n",
              "      <td>0</td>\n",
              "      <td>0</td>\n",
              "      <td>1</td>\n",
              "      <td>0</td>\n",
              "      <td>0</td>\n",
              "      <td>0</td>\n",
              "      <td>0</td>\n",
              "      <td>0</td>\n",
              "      <td>0</td>\n",
              "    </tr>\n",
              "    <tr>\n",
              "      <th>1</th>\n",
              "      <td>0</td>\n",
              "      <td>0</td>\n",
              "      <td>0</td>\n",
              "      <td>0</td>\n",
              "      <td>0.413050</td>\n",
              "      <td>0.821693</td>\n",
              "      <td>0.268666</td>\n",
              "      <td>1</td>\n",
              "      <td>0</td>\n",
              "      <td>0</td>\n",
              "      <td>...</td>\n",
              "      <td>1</td>\n",
              "      <td>0</td>\n",
              "      <td>0</td>\n",
              "      <td>0</td>\n",
              "      <td>0</td>\n",
              "      <td>1</td>\n",
              "      <td>0</td>\n",
              "      <td>0</td>\n",
              "      <td>0</td>\n",
              "      <td>0</td>\n",
              "    </tr>\n",
              "    <tr>\n",
              "      <th>2</th>\n",
              "      <td>0</td>\n",
              "      <td>0</td>\n",
              "      <td>0</td>\n",
              "      <td>0</td>\n",
              "      <td>-0.327780</td>\n",
              "      <td>-0.748727</td>\n",
              "      <td>0.268666</td>\n",
              "      <td>0</td>\n",
              "      <td>0</td>\n",
              "      <td>0</td>\n",
              "      <td>...</td>\n",
              "      <td>1</td>\n",
              "      <td>0</td>\n",
              "      <td>0</td>\n",
              "      <td>0</td>\n",
              "      <td>0</td>\n",
              "      <td>1</td>\n",
              "      <td>0</td>\n",
              "      <td>0</td>\n",
              "      <td>0</td>\n",
              "      <td>0</td>\n",
              "    </tr>\n",
              "    <tr>\n",
              "      <th>3</th>\n",
              "      <td>0</td>\n",
              "      <td>0</td>\n",
              "      <td>0</td>\n",
              "      <td>0</td>\n",
              "      <td>-0.512988</td>\n",
              "      <td>0.821693</td>\n",
              "      <td>0.268666</td>\n",
              "      <td>1</td>\n",
              "      <td>0</td>\n",
              "      <td>0</td>\n",
              "      <td>...</td>\n",
              "      <td>1</td>\n",
              "      <td>0</td>\n",
              "      <td>0</td>\n",
              "      <td>0</td>\n",
              "      <td>0</td>\n",
              "      <td>1</td>\n",
              "      <td>0</td>\n",
              "      <td>0</td>\n",
              "      <td>0</td>\n",
              "      <td>0</td>\n",
              "    </tr>\n",
              "    <tr>\n",
              "      <th>4</th>\n",
              "      <td>0</td>\n",
              "      <td>0</td>\n",
              "      <td>0</td>\n",
              "      <td>0</td>\n",
              "      <td>0.227843</td>\n",
              "      <td>0.821693</td>\n",
              "      <td>1.339936</td>\n",
              "      <td>0</td>\n",
              "      <td>0</td>\n",
              "      <td>0</td>\n",
              "      <td>...</td>\n",
              "      <td>1</td>\n",
              "      <td>0</td>\n",
              "      <td>0</td>\n",
              "      <td>0</td>\n",
              "      <td>0</td>\n",
              "      <td>1</td>\n",
              "      <td>0</td>\n",
              "      <td>0</td>\n",
              "      <td>0</td>\n",
              "      <td>0</td>\n",
              "    </tr>\n",
              "    <tr>\n",
              "      <th>...</th>\n",
              "      <td>...</td>\n",
              "      <td>...</td>\n",
              "      <td>...</td>\n",
              "      <td>...</td>\n",
              "      <td>...</td>\n",
              "      <td>...</td>\n",
              "      <td>...</td>\n",
              "      <td>...</td>\n",
              "      <td>...</td>\n",
              "      <td>...</td>\n",
              "      <td>...</td>\n",
              "      <td>...</td>\n",
              "      <td>...</td>\n",
              "      <td>...</td>\n",
              "      <td>...</td>\n",
              "      <td>...</td>\n",
              "      <td>...</td>\n",
              "      <td>...</td>\n",
              "      <td>...</td>\n",
              "      <td>...</td>\n",
              "      <td>...</td>\n",
              "    </tr>\n",
              "    <tr>\n",
              "      <th>947</th>\n",
              "      <td>0</td>\n",
              "      <td>0</td>\n",
              "      <td>0</td>\n",
              "      <td>0</td>\n",
              "      <td>-0.142573</td>\n",
              "      <td>0.821693</td>\n",
              "      <td>0.268666</td>\n",
              "      <td>0</td>\n",
              "      <td>0</td>\n",
              "      <td>1</td>\n",
              "      <td>...</td>\n",
              "      <td>1</td>\n",
              "      <td>0</td>\n",
              "      <td>0</td>\n",
              "      <td>0</td>\n",
              "      <td>0</td>\n",
              "      <td>1</td>\n",
              "      <td>0</td>\n",
              "      <td>0</td>\n",
              "      <td>0</td>\n",
              "      <td>1</td>\n",
              "    </tr>\n",
              "    <tr>\n",
              "      <th>948</th>\n",
              "      <td>0</td>\n",
              "      <td>0</td>\n",
              "      <td>0</td>\n",
              "      <td>0</td>\n",
              "      <td>0.227843</td>\n",
              "      <td>-0.748727</td>\n",
              "      <td>-0.266969</td>\n",
              "      <td>0</td>\n",
              "      <td>1</td>\n",
              "      <td>0</td>\n",
              "      <td>...</td>\n",
              "      <td>1</td>\n",
              "      <td>0</td>\n",
              "      <td>0</td>\n",
              "      <td>1</td>\n",
              "      <td>0</td>\n",
              "      <td>0</td>\n",
              "      <td>0</td>\n",
              "      <td>0</td>\n",
              "      <td>1</td>\n",
              "      <td>1</td>\n",
              "    </tr>\n",
              "    <tr>\n",
              "      <th>949</th>\n",
              "      <td>0</td>\n",
              "      <td>0</td>\n",
              "      <td>0</td>\n",
              "      <td>0</td>\n",
              "      <td>-0.512988</td>\n",
              "      <td>-0.748727</td>\n",
              "      <td>-0.266969</td>\n",
              "      <td>0</td>\n",
              "      <td>1</td>\n",
              "      <td>0</td>\n",
              "      <td>...</td>\n",
              "      <td>1</td>\n",
              "      <td>0</td>\n",
              "      <td>0</td>\n",
              "      <td>1</td>\n",
              "      <td>0</td>\n",
              "      <td>0</td>\n",
              "      <td>0</td>\n",
              "      <td>0</td>\n",
              "      <td>0</td>\n",
              "      <td>0</td>\n",
              "    </tr>\n",
              "    <tr>\n",
              "      <th>950</th>\n",
              "      <td>0</td>\n",
              "      <td>0</td>\n",
              "      <td>0</td>\n",
              "      <td>0</td>\n",
              "      <td>0.227843</td>\n",
              "      <td>-0.748727</td>\n",
              "      <td>-0.266969</td>\n",
              "      <td>0</td>\n",
              "      <td>1</td>\n",
              "      <td>0</td>\n",
              "      <td>...</td>\n",
              "      <td>0</td>\n",
              "      <td>1</td>\n",
              "      <td>0</td>\n",
              "      <td>1</td>\n",
              "      <td>0</td>\n",
              "      <td>0</td>\n",
              "      <td>0</td>\n",
              "      <td>0</td>\n",
              "      <td>0</td>\n",
              "      <td>0</td>\n",
              "    </tr>\n",
              "    <tr>\n",
              "      <th>951</th>\n",
              "      <td>0</td>\n",
              "      <td>1</td>\n",
              "      <td>0</td>\n",
              "      <td>0</td>\n",
              "      <td>0.783466</td>\n",
              "      <td>0.036483</td>\n",
              "      <td>-0.802604</td>\n",
              "      <td>0</td>\n",
              "      <td>1</td>\n",
              "      <td>0</td>\n",
              "      <td>...</td>\n",
              "      <td>1</td>\n",
              "      <td>0</td>\n",
              "      <td>0</td>\n",
              "      <td>1</td>\n",
              "      <td>0</td>\n",
              "      <td>0</td>\n",
              "      <td>0</td>\n",
              "      <td>0</td>\n",
              "      <td>1</td>\n",
              "      <td>1</td>\n",
              "    </tr>\n",
              "  </tbody>\n",
              "</table>\n",
              "<p>947 rows × 33 columns</p>\n",
              "</div>\n",
              "    <div class=\"colab-df-buttons\">\n",
              "\n",
              "  <div class=\"colab-df-container\">\n",
              "    <button class=\"colab-df-convert\" onclick=\"convertToInteractive('df-2a197c91-0aee-4523-bf95-08f7e7d0cc47')\"\n",
              "            title=\"Convert this dataframe to an interactive table.\"\n",
              "            style=\"display:none;\">\n",
              "\n",
              "  <svg xmlns=\"http://www.w3.org/2000/svg\" height=\"24px\" viewBox=\"0 -960 960 960\">\n",
              "    <path d=\"M120-120v-720h720v720H120Zm60-500h600v-160H180v160Zm220 220h160v-160H400v160Zm0 220h160v-160H400v160ZM180-400h160v-160H180v160Zm440 0h160v-160H620v160ZM180-180h160v-160H180v160Zm440 0h160v-160H620v160Z\"/>\n",
              "  </svg>\n",
              "    </button>\n",
              "\n",
              "  <style>\n",
              "    .colab-df-container {\n",
              "      display:flex;\n",
              "      gap: 12px;\n",
              "    }\n",
              "\n",
              "    .colab-df-convert {\n",
              "      background-color: #E8F0FE;\n",
              "      border: none;\n",
              "      border-radius: 50%;\n",
              "      cursor: pointer;\n",
              "      display: none;\n",
              "      fill: #1967D2;\n",
              "      height: 32px;\n",
              "      padding: 0 0 0 0;\n",
              "      width: 32px;\n",
              "    }\n",
              "\n",
              "    .colab-df-convert:hover {\n",
              "      background-color: #E2EBFA;\n",
              "      box-shadow: 0px 1px 2px rgba(60, 64, 67, 0.3), 0px 1px 3px 1px rgba(60, 64, 67, 0.15);\n",
              "      fill: #174EA6;\n",
              "    }\n",
              "\n",
              "    .colab-df-buttons div {\n",
              "      margin-bottom: 4px;\n",
              "    }\n",
              "\n",
              "    [theme=dark] .colab-df-convert {\n",
              "      background-color: #3B4455;\n",
              "      fill: #D2E3FC;\n",
              "    }\n",
              "\n",
              "    [theme=dark] .colab-df-convert:hover {\n",
              "      background-color: #434B5C;\n",
              "      box-shadow: 0px 1px 3px 1px rgba(0, 0, 0, 0.15);\n",
              "      filter: drop-shadow(0px 1px 2px rgba(0, 0, 0, 0.3));\n",
              "      fill: #FFFFFF;\n",
              "    }\n",
              "  </style>\n",
              "\n",
              "    <script>\n",
              "      const buttonEl =\n",
              "        document.querySelector('#df-2a197c91-0aee-4523-bf95-08f7e7d0cc47 button.colab-df-convert');\n",
              "      buttonEl.style.display =\n",
              "        google.colab.kernel.accessAllowed ? 'block' : 'none';\n",
              "\n",
              "      async function convertToInteractive(key) {\n",
              "        const element = document.querySelector('#df-2a197c91-0aee-4523-bf95-08f7e7d0cc47');\n",
              "        const dataTable =\n",
              "          await google.colab.kernel.invokeFunction('convertToInteractive',\n",
              "                                                    [key], {});\n",
              "        if (!dataTable) return;\n",
              "\n",
              "        const docLinkHtml = 'Like what you see? Visit the ' +\n",
              "          '<a target=\"_blank\" href=https://colab.research.google.com/notebooks/data_table.ipynb>data table notebook</a>'\n",
              "          + ' to learn more about interactive tables.';\n",
              "        element.innerHTML = '';\n",
              "        dataTable['output_type'] = 'display_data';\n",
              "        await google.colab.output.renderOutput(dataTable, element);\n",
              "        const docLink = document.createElement('div');\n",
              "        docLink.innerHTML = docLinkHtml;\n",
              "        element.appendChild(docLink);\n",
              "      }\n",
              "    </script>\n",
              "  </div>\n",
              "\n",
              "\n",
              "<div id=\"df-18e1e9aa-a966-473b-b2a2-5c317c974907\">\n",
              "  <button class=\"colab-df-quickchart\" onclick=\"quickchart('df-18e1e9aa-a966-473b-b2a2-5c317c974907')\"\n",
              "            title=\"Suggest charts.\"\n",
              "            style=\"display:none;\">\n",
              "\n",
              "<svg xmlns=\"http://www.w3.org/2000/svg\" height=\"24px\"viewBox=\"0 0 24 24\"\n",
              "     width=\"24px\">\n",
              "    <g>\n",
              "        <path d=\"M19 3H5c-1.1 0-2 .9-2 2v14c0 1.1.9 2 2 2h14c1.1 0 2-.9 2-2V5c0-1.1-.9-2-2-2zM9 17H7v-7h2v7zm4 0h-2V7h2v10zm4 0h-2v-4h2v4z\"/>\n",
              "    </g>\n",
              "</svg>\n",
              "  </button>\n",
              "\n",
              "<style>\n",
              "  .colab-df-quickchart {\n",
              "    background-color: #E8F0FE;\n",
              "    border: none;\n",
              "    border-radius: 50%;\n",
              "    cursor: pointer;\n",
              "    display: none;\n",
              "    fill: #1967D2;\n",
              "    height: 32px;\n",
              "    padding: 0 0 0 0;\n",
              "    width: 32px;\n",
              "  }\n",
              "\n",
              "  .colab-df-quickchart:hover {\n",
              "    background-color: #E2EBFA;\n",
              "    box-shadow: 0px 1px 2px rgba(60, 64, 67, 0.3), 0px 1px 3px 1px rgba(60, 64, 67, 0.15);\n",
              "    fill: #174EA6;\n",
              "  }\n",
              "\n",
              "  [theme=dark] .colab-df-quickchart {\n",
              "    background-color: #3B4455;\n",
              "    fill: #D2E3FC;\n",
              "  }\n",
              "\n",
              "  [theme=dark] .colab-df-quickchart:hover {\n",
              "    background-color: #434B5C;\n",
              "    box-shadow: 0px 1px 3px 1px rgba(0, 0, 0, 0.15);\n",
              "    filter: drop-shadow(0px 1px 2px rgba(0, 0, 0, 0.3));\n",
              "    fill: #FFFFFF;\n",
              "  }\n",
              "</style>\n",
              "\n",
              "  <script>\n",
              "    async function quickchart(key) {\n",
              "      const charts = await google.colab.kernel.invokeFunction(\n",
              "          'suggestCharts', [key], {});\n",
              "    }\n",
              "    (() => {\n",
              "      let quickchartButtonEl =\n",
              "        document.querySelector('#df-18e1e9aa-a966-473b-b2a2-5c317c974907 button');\n",
              "      quickchartButtonEl.style.display =\n",
              "        google.colab.kernel.accessAllowed ? 'block' : 'none';\n",
              "    })();\n",
              "  </script>\n",
              "</div>\n",
              "    </div>\n",
              "  </div>\n"
            ]
          },
          "metadata": {},
          "execution_count": 24
        }
      ]
    },
    {
      "cell_type": "code",
      "source": [
        "# Separar características y etiquetas\n",
        "y = df['Diabetic_yes']\n",
        "x = df.drop(columns=['Diabetic_yes'])\n",
        "\n",
        "# Dividir los datos en conjuntos de entrenamiento y prueba\n",
        "x_train, x_test, y_train, y_test = train_test_split(x, y, test_size=0.25, random_state=42)\n",
        "\n",
        "# Preprocesamiento con Estandarización\n",
        "scaler = StandardScaler()\n",
        "stan_x_train = scaler.fit_transform(x_train)\n",
        "stan_x_test = scaler.transform(x_test)\n",
        "\n",
        " # Visualización de la matriz de confusión\n",
        "    plt.figure(figsize=(2, 1))\n",
        "    sns.heatmap(conf_matrix, annot=True, fmt='.0f', cmap=\"Blues\")\n",
        "    plt.xlabel('Predicted')\n",
        "    plt.ylabel('True')\n",
        "    plt.title(f'{model_name}')\n",
        "    plt.show()"
      ],
      "metadata": {
        "id": "m4og32SGzYZ7"
      },
      "id": "m4og32SGzYZ7",
      "execution_count": null,
      "outputs": []
    },
    {
      "cell_type": "markdown",
      "source": [
        "# **Evaluación de modelos**"
      ],
      "metadata": {
        "id": "JJ3hJCfu4KpN"
      },
      "id": "JJ3hJCfu4KpN"
    },
    {
      "cell_type": "code",
      "source": [
        "from sklearn.svm import SVC\n",
        "# Modelos\n",
        "models = [\n",
        "    (\"Decision Tree\", DecisionTreeClassifier(random_state=42)),\n",
        "    (\"KNeighbors\", KNeighborsClassifier()),\n",
        "    (\"Logistic Regression\", LogisticRegression(random_state=42)),\n",
        "    (\"Random Forest\", RandomForestClassifier(random_state=42)),\n",
        "    (\"SVM\", SVC(random_state=42))\n",
        "]"
      ],
      "metadata": {
        "id": "w6z0unoX763M"
      },
      "id": "w6z0unoX763M",
      "execution_count": null,
      "outputs": []
    },
    {
      "cell_type": "code",
      "source": [
        "\n",
        "for model_name, model in models:\n",
        "    # Entrenamiento\n",
        "    model.fit(stan_x_train, y_train)\n",
        "\n",
        "    # Predicción\n",
        "    y_pred = model.predict(stan_x_test)\n",
        "\n",
        "    # Métricas\n",
        "    accuracy = accuracy_score(y_test, y_pred)\n",
        "    precision = precision_score(y_test, y_pred)\n",
        "    f1 = f1_score(y_test, y_pred)\n",
        "\n",
        "    # Matriz de confusión\n",
        "    conf_matrix = confusion_matrix(y_test, y_pred)\n",
        "\n",
        "    # Imprimir métricas\n",
        "    print(f\"Metricas para {model_name}:\")\n",
        "    print(f\"Accuracy: {accuracy:.4f}\")\n",
        "    print(f\"Precision: {precision:.4f}\")\n",
        "    print(f\"F1 Score: {f1:.4f}\")\n",
        "    # Visualización de la matriz de confusión\n",
        "    plt.figure(figsize=(2, 1))\n",
        "    sns.heatmap(conf_matrix, annot=True, fmt='.0f', cmap=\"Blues\")\n",
        "    plt.xlabel('Predicted')\n",
        "    plt.ylabel('True')\n",
        "    plt.title(f'{model_name}')\n",
        "    plt.show()\n",
        "    print(\"-\" * 30)"
      ],
      "metadata": {
        "colab": {
          "base_uri": "https://localhost:8080/",
          "height": 1000
        },
        "id": "KVezyeo7BIi4",
        "outputId": "13ac9154-a78e-41de-c59f-16ef2f814f86"
      },
      "id": "KVezyeo7BIi4",
      "execution_count": null,
      "outputs": [
        {
          "output_type": "stream",
          "name": "stdout",
          "text": [
            "Metricas para Decision Tree:\n",
            "Accuracy: 0.9662\n",
            "Precision: 0.9577\n",
            "F1 Score: 0.9444\n"
          ]
        },
        {
          "output_type": "display_data",
          "data": {
            "text/plain": [
              "<Figure size 200x100 with 2 Axes>"
            ],
            "image/png": "[encoded data removed]"
          },
          "metadata": {}
        },
        {
          "output_type": "stream",
          "name": "stdout",
          "text": [
            "------------------------------\n",
            "Metricas para KNeighbors:\n",
            "Accuracy: 0.8692\n",
            "Precision: 0.8500\n",
            "F1 Score: 0.7669\n"
          ]
        },
        {
          "output_type": "display_data",
          "data": {
            "text/plain": [
              "<Figure size 200x100 with 2 Axes>"
            ],
            "image/png": "[encoded data removed]"
          },
          "metadata": {}
        },
        {
          "output_type": "stream",
          "name": "stdout",
          "text": [
            "------------------------------\n",
            "Metricas para Logistic Regression:\n",
            "Accuracy: 0.8692\n",
            "Precision: 0.8000\n",
            "F1 Score: 0.7832\n"
          ]
        },
        {
          "output_type": "display_data",
          "data": {
            "text/plain": [
              "<Figure size 200x100 with 2 Axes>"
            ],
            "image/png": "[encoded data removed]"
          },
          "metadata": {}
        },
        {
          "output_type": "stream",
          "name": "stdout",
          "text": [
            "------------------------------\n",
            "Metricas para Random Forest:\n",
            "Accuracy: 0.9536\n",
            "Precision: 0.9306\n",
            "F1 Score: 0.9241\n"
          ]
        },
        {
          "output_type": "display_data",
          "data": {
            "text/plain": [
              "<Figure size 200x100 with 2 Axes>"
            ],
            "image/png": "[encoded data removed]"
          },
          "metadata": {}
        },
        {
          "output_type": "stream",
          "name": "stdout",
          "text": [
            "------------------------------\n",
            "Metricas para SVM:\n",
            "Accuracy: 0.9198\n",
            "Precision: 0.8857\n",
            "F1 Score: 0.8671\n"
          ]
        },
        {
          "output_type": "display_data",
          "data": {
            "text/plain": [
              "<Figure size 200x100 with 2 Axes>"
            ],
            "image/png": "[encoded data removed]"
          },
          "metadata": {}
        },
        {
          "output_type": "stream",
          "name": "stdout",
          "text": [
            "------------------------------\n"
          ]
        }
      ]
    }
  ],
  "metadata": {
    "kernelspec": {
      "display_name": "Python 3",
      "language": "python",
      "name": "python3"
    },
    "language_info": {
      "codemirror_mode": {
        "name": "ipython",
        "version": 3
      },
      "file_extension": ".py",
      "mimetype": "text/x-python",
      "name": "python",
      "nbconvert_exporter": "python",
      "pygments_lexer": "ipython3",
      "version": "3.7.12"
    },
    "papermill": {
      "default_parameters": {},
      "duration": 116.206249,
      "end_time": "2022-04-21T13:48:59.525516",
      "environment_variables": {},
      "exception": null,
      "input_path": "__notebook__.ipynb",
      "output_path": "__notebook__.ipynb",
      "parameters": {},
      "start_time": "2022-04-21T13:47:03.319267",
      "version": "2.3.3"
    },
    "colab": {
      "provenance": []
    }
  },
  "nbformat": 4,
  "nbformat_minor": 5
}